{
 "cells": [
  {
   "cell_type": "code",
   "execution_count": 128,
   "id": "2666877f",
   "metadata": {
    "cellId": "oixukmkd6vlwewc4m59jw8"
   },
   "outputs": [],
   "source": [
    "#!g1.1\n",
    "import os\n",
    "\n",
    "import torch\n",
    "import torch.nn as nn\n",
    "import numpy as np\n",
    "from tqdm import tqdm\n",
    "import typing as tp"
   ]
  },
  {
   "cell_type": "code",
   "execution_count": 129,
   "id": "19201ebe",
   "metadata": {
    "cellId": "6f0cwg12nypu0g8ng7q"
   },
   "outputs": [],
   "source": [
    "#!g1.1\n",
    "device = torch.device('cuda')"
   ]
  },
  {
   "cell_type": "code",
   "execution_count": 195,
   "id": "3f65188d",
   "metadata": {
    "cellId": "n2pugss8lcf0m2atidrym0b"
   },
   "outputs": [],
   "source": [
    "#!g1.1\n",
    "from music_project.common.melspec import MelSpectrogram, MelSpectrogramConfig\n",
    "from music_project.common.dataset import MusicDataset\n",
    "from music_project.common.collator import split_collate_fn\n",
    "from music_project.common.utils import init_scheduler\n",
    "from music_project.config import TaskConfig\n",
    "from music_project.models.pretrained_vocoder import Vocoder\n",
    "from music_project.vae_trainer.vae_trainer import SpecVaeTrainer\n",
    "from IPython import display"
   ]
  },
  {
   "cell_type": "code",
   "execution_count": 282,
   "id": "d5174319",
   "metadata": {
    "cellId": "anfhcpp1qrls6jjmcbjvpa"
   },
   "outputs": [],
   "source": [
    "#!g1.1\n",
    "device = torch.device('cuda')"
   ]
  },
  {
   "cell_type": "code",
   "execution_count": null,
   "id": "b8eeb41f",
   "metadata": {
    "cellId": "oic261rytcm1a8adcnavdo"
   },
   "outputs": [],
   "source": [
    "#!g1.1\n",
    "!git clone https://github.com/NVIDIA/waveglow.git"
   ]
  },
  {
   "cell_type": "code",
   "execution_count": null,
   "id": "7e6be45a",
   "metadata": {
    "cellId": "i7355bjtptlf9gwkcabdi"
   },
   "outputs": [],
   "source": [
    "#!g1.1\n",
    "import sys\n",
    "sys.path.append('waveglow/')\n",
    "from music_project.models.pretrained_vocoder import Vocoder\n",
    "vocoder = Vocoder().to(device).eval()"
   ]
  },
  {
   "cell_type": "code",
   "execution_count": 284,
   "id": "9b14beab",
   "metadata": {
    "cellId": "jronqwxgm7nw7v1tghnd"
   },
   "outputs": [],
   "source": [
    "#!g1.1\n",
    "CONFIG = TaskConfig()\n",
    "N_EPOCHS = CONFIG.n_epochs\n",
    "BATCH_SIZE = CONFIG.dataloaders_params[\"batch_size\"]\n",
    "MEL_LENGTH = CONFIG.mel_length"
   ]
  },
  {
   "cell_type": "code",
   "execution_count": 285,
   "id": "86e01a76",
   "metadata": {
    "cellId": "dbd4mga6w4e4b88x6s9h5f"
   },
   "outputs": [],
   "source": [
    "#!g1.1\n",
    "data_params = CONFIG.dataloaders_params\n",
    "dataset = MusicDataset(data_path=\"../nsynth-train/audio\")\n",
    "total_len = len(dataset)\n",
    "\n",
    "train_len = int(data_params[\"train_size\"] * total_len)\n",
    "val_len = total_len - train_len\n",
    "train_part, val_part = torch.utils.data.random_split(\n",
    "    dataset, [train_len, val_len],\n",
    "    generator=torch.Generator().manual_seed(42)\n",
    ")\n",
    "\n",
    "train_loader = torch.utils.data.DataLoader(\n",
    "    train_part, batch_size=BATCH_SIZE, collate_fn=split_collate_fn,\n",
    "    shuffle=True, num_workers=data_params[\"num_workers\"], pin_memory=True\n",
    ")\n",
    "val_loader = torch.utils.data.DataLoader(\n",
    "    val_part, batch_size=BATCH_SIZE, collate_fn=split_collate_fn,\n",
    "    shuffle=True, num_workers=data_params[\"num_workers\"], pin_memory=True\n",
    ")\n"
   ]
  },
  {
   "cell_type": "code",
   "execution_count": 264,
   "id": "fa71b7e7",
   "metadata": {
    "cellId": "vtwlayj4oryfdlfwj1xon"
   },
   "outputs": [
    {
     "data": {
      "text/plain": [
       "(torch.Size([128, 8192]), torch.Size([128, 80, 33]))"
      ]
     },
     "execution_count": 264,
     "metadata": {},
     "output_type": "execute_result"
    }
   ],
   "source": [
    "#!g1.1\n",
    "wav, mel = next(iter(val_loader))\n",
    "wav.shape, mel.shape"
   ]
  },
  {
   "cell_type": "code",
   "execution_count": 350,
   "id": "260c651f",
   "metadata": {
    "cellId": "3uqheeu9zmfvjx3uo6j66a"
   },
   "outputs": [],
   "source": [
    "#!g1.1\n",
    "model = MelVAE(input_size=(80, MEL_LENGTH))\n",
    "# model.load_state_dict(torch.load('MelVAE_run1_epoch_5.pth'))\n",
    "model = model.to(device)"
   ]
  },
  {
   "cell_type": "code",
   "execution_count": 351,
   "id": "5c068cf4",
   "metadata": {
    "cellId": "yctx1vclo7senpdmwezt8"
   },
   "outputs": [],
   "source": [
    "#!g1.1\n",
    "optimizer = torch.optim.Adam(model.parameters(), lr=0.001,  amsgrad=True)\n",
    "lr_scheduler = torch.optim.lr_scheduler.StepLR(optimizer, step_size=len(train_loader), gamma=0.1)"
   ]
  },
  {
   "cell_type": "code",
   "execution_count": 353,
   "id": "9f6b620b",
   "metadata": {
    "cellId": "m3vopk6sz5akvnm3dosy7"
   },
   "outputs": [],
   "source": [
    "#!g1.1\n",
    "trainer = SpecVaeTrainer(model, optimizer, device, mel_length=MEL_LENGTH, vocoder=vocoder,\n",
    "                 train_data_loader=train_loader, valid_data_loader=val_loader, lr_scheduler=lr_scheduler)"
   ]
  },
  {
   "cell_type": "code",
   "execution_count": null,
   "id": "9f1273fa",
   "metadata": {
    "cellId": "n7bbu5h9hmm9rl1aug7txd"
   },
   "outputs": [],
   "source": [
    "#!g1.1\n",
    "N_EPOCHS = 30\n",
    "\n",
    "RUN_NAME = \"MelVAE_no-rec-loss\"\n",
    "wandb.init(project='vae_music', name=RUN_NAME)"
   ]
  },
  {
   "cell_type": "code",
   "execution_count": null,
   "id": "b7e5c5fd",
   "metadata": {
    "cellId": "9s53cgef02v6yl71afuf89"
   },
   "outputs": [],
   "source": [
    "#!g1.1\n",
    "for i in range(N_EPOCHS):\n",
    "    trainer._train_epoch(i)\n",
    "    torch.save(trainer.model.state_dict(), RUN_NAME + '_lastepoch.pth')\n",
    "    if i % 5 == 0:\n",
    "        torch.save(trainer.model.state_dict(), RUN_NAME + '_epoch_' + str(i) + '.pth')"
   ]
  },
  {
   "cell_type": "code",
   "execution_count": 258,
   "id": "31e88c5f",
   "metadata": {
    "cellId": "1od5zanz5vfvacmus652f"
   },
   "outputs": [
    {
     "data": {
      "text/html": [
       "\n",
       "                <audio  controls=\"controls\" >\n",
       "                    <source src=\"data:audio/wav;base64,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\" type=\"audio/wav\" />\n",
       "                    Your browser does not support the audio element.\n",
       "                </audio>\n",
       "              "
      ],
      "text/plain": [
       "<IPython.lib.display.Audio object>"
      ]
     },
     "metadata": {},
     "output_type": "display_data"
    }
   ],
   "source": [
    "#!g1.1\n",
    "y = mel\n",
    "reconstructed_wav = vocoder.inference(y.to(device)).cpu()\n",
    "display.display(display.Audio(reconstructed_wav[0], rate=22050))"
   ]
  },
  {
   "cell_type": "code",
   "execution_count": 259,
   "id": "92582f6f",
   "metadata": {
    "cellId": "0d8au21hi42keej0xgdk9rt"
   },
   "outputs": [
    {
     "data": {
      "text/html": [
       "\n",
       "                <audio  controls=\"controls\" >\n",
       "                    <source src=\"data:audio/wav;base64,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\" type=\"audio/wav\" />\n",
       "                    Your browser does not support the audio element.\n",
       "                </audio>\n",
       "              "
      ],
      "text/plain": [
       "<IPython.lib.display.Audio object>"
      ]
     },
     "metadata": {},
     "output_type": "display_data"
    }
   ],
   "source": [
    "#!g1.1\n",
    "reconstructed_wav = vocoder.inference(out.to(device)).cpu()\n",
    "display.display(display.Audio(reconstructed_wav[0], rate=22050))"
   ]
  }
 ],
 "metadata": {
  "kernelspec": {
   "display_name": "Yandex DataSphere Kernel",
   "language": "python",
   "name": "python3"
  },
  "language_info": {
   "codemirror_mode": {
    "name": "ipython",
    "version": 3
   },
   "file_extension": ".py",
   "mimetype": "text/x-python",
   "name": "python",
   "nbconvert_exporter": "python",
   "pygments_lexer": "ipython3",
   "version": "3.7.7"
  },
  "notebookId": "6f9a2a8d-586a-4534-a8bf-c1228140dde8",
  "notebookPath": "gan-music-2022/train_vae.ipynb"
 },
 "nbformat": 4,
 "nbformat_minor": 5
}
